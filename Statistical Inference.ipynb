{
 "cells": [
  {
   "cell_type": "code",
   "execution_count": 2,
   "metadata": {},
   "outputs": [],
   "source": [
    "import numpy as np\n",
    "import seaborn as sns\n",
    "import pandas as pd\n",
    "\n",
    "from IPython.core.pylabtools import figsize\n",
    "\n",
    "import matplotlib.pyplot as plt\n",
    "sns.set()"
   ]
  },
  {
   "cell_type": "code",
   "execution_count": 3,
   "metadata": {},
   "outputs": [],
   "source": [
    "# Some utils functions: \n",
    "import math\n",
    "\n",
    "def nCr(n,r):\n",
    "    f = math.factorial\n",
    "    return f(n) // f(r) // f(n-r)"
   ]
  },
  {
   "cell_type": "code",
   "execution_count": 4,
   "metadata": {},
   "outputs": [],
   "source": [
    "def get_bionamal_distribution(N, pi):\n",
    "    p = []\n",
    "    index = []\n",
    "    for i in range(0, N + 1):\n",
    "        w = pi ** i\n",
    "        b = (1 - pi) ** (N - i)\n",
    "        C = nCr(N, i)\n",
    "        \n",
    "        p.append(C * w * b)\n",
    "        index.append(i)\n",
    "    \n",
    "    return p"
   ]
  },
  {
   "cell_type": "markdown",
   "metadata": {},
   "source": [
    "## I. Suy luận thống kê là gì?\n",
    "\n",
    "Suy luận thống kê quan tâm tới việc chúng ta cố gắng học những tính chất chưa biết của thế giới, thông qua những gì đã biết, đặc biệt khi có sự không chắc chắn (uncertainty). Bỏ qua suy luận thống kê, chúng ta sẽ ra những quyết định kém, gây lãng phí."
   ]
  },
  {
   "cell_type": "markdown",
   "metadata": {},
   "source": [
    "Suy luận thống kê quan tâm tới 2 khái niệm: \n",
    "- Data Analysis\n",
    "- Model Analysis. \n",
    "\n",
    "Data là 1 tập các sự kiện, ví dụ như số, chuỗi, phép đo, quan sát hoặc một mô tả nào đó. Data có thể  mang tính định tính (Quanlitive) hoặc định lượng (Quantitative). Data có thể là Sample và Population. Population là toàn bộ Data về vấn đề ta quan tâm. Sample là những Data ta đã thu thập. \n",
    "\n",
    "Trong thực tế, ta không thể thu thập được Population, do đó ta chỉ có thể thực hiện Data Analysis và Modeling trên Sample. \n",
    "\n",
    "Model là 1 tập các giả thuyết (assumptions) về Data. Trong suy luận thống kê, Model thể hiện dưới dạng toán học. Kể cả dùng chung 1 phương pháp toán học trên Data, Model cũng có thể  đưa ra các cách giải thích khác nhau về Data tùy vào vấn đề. Model phải đơn giản, tức là tập hợp assumptions phải tổng hợp Data trong 1 tập nhỏ hơn Data, từ đó chúng có thể được sử dụng để suy luận, cho phép dự đoán về các sự kiện chưa xuất hiện."
   ]
  },
  {
   "cell_type": "markdown",
   "metadata": {},
   "source": [
    "Mục tiêu của suy luận thống kê là thu thập Data, update hiểu biết của chúng ta về 1 tập các models có thể mô tả Data. Quy trình chung là: chúng ta cố gắng tạo ra các assumptions tốt nhất về Data, cải thiện các suy luận khi có Data mới, và lên kế hoạch thu thập Data mới có thể hữu dụng để cải thiện các suy luận. Nói tóm lại, quá trình này là:\n",
    "\n",
    "> Intial Infernce + New Data -> Improved Inference"
   ]
  },
  {
   "cell_type": "markdown",
   "metadata": {},
   "source": [
    "Trong thực tế, ta không thể thu thập được population. Như vậy, về  định tính, ta có thể thấy: \n",
    "> \"Essentially, all models are wrong, but some are useful\"."
   ]
  },
  {
   "cell_type": "markdown",
   "metadata": {},
   "source": [
    "Như vậy, chúng ta sẽ gặp phải các vấn đề như sau:\n",
    "- Quan hệ giữa Sample và Population ? (Ví dụ: Sample có giá trị thay thế cho Population không, Sample có thể hiện đúng Population hay không, Population có thể tạo ra Sample không, Sample nào tốt hơn Sample nào).\n",
    "- Quan hệ giữa các Models ? (Ví dụ: Model 1 hay Model 2 đúng hơn, Model 1 đúng và sai trong những trường hợp nào, Model 1 và Model 2 có những điểm gì chung). \n",
    "- Quan hệ giữa Model và Data ? (Ví dụ: Model có thể hiện được Sample và Population hay không)\n",
    "    \n",
    "Để trả lời các vấn đề trên, ta cần có cách định lượng quan hệ giữa Model và Data."
   ]
  },
  {
   "cell_type": "markdown",
   "metadata": {},
   "source": [
    "## II. Quy trình Bernoulli - Luật số nhỏ và Luật số lớn: \n",
    "\n",
    "Xét câu sau:\n",
    "> \"Trong một cuộc thăm dò trên điện thoại với 300 người, 60% số người ủng hộ tổng thống.\"\n",
    "\n",
    "Hãy nhận xét về câu trên. Kể cả với những người đã nghe về Luật số nhỏ cũng sẽ đưa ra nhận xét rằng 60% người dân ủng hộ tổng thống. Vậy có phải 60% số người dân ủng hộ tổng thống không?"
   ]
  },
  {
   "cell_type": "markdown",
   "metadata": {},
   "source": [
    "Ta xét các câu khác:\n",
    "> \"Trong một cuộc thăm dò trên điện thoại với 10 người, 60% số người ủng hộ tổng thống.\"\n",
    "\n",
    "> \"Trong một cuộc thăm dò trên điện thoại với 100 người, 60% số người ủng hộ tổng thống.\"\n",
    "\n",
    "> \"Trong một cuộc thăm dò trên điện thoại với 200 người, 60% số người ủng hộ tổng thống.\"\n",
    "\n",
    "Thực tế trực giác của con người quan tâm tới phần sau của câu chuyện: 60% số người ủng hộ tổng thống chứ ta không quan tâm tới kích thước sample. Quan niệm sai - hoặc trực giác sai rất phổ biến. Nó có tên là bias do lấy sample thiếu nhạy cảm hay Luật số nhỏ. Luật số nhỏ không thực sự là một quy luật. Đó là cái tên châm biếm mô tả những nỗ lực sai lầm nhằm áp dụng Luật số lớn khi mà sample chưa đủ lớn. Thực tế đây là cách học tập của loài người về các vấn đề tự nhiên. "
   ]
  },
  {
   "cell_type": "markdown",
   "metadata": {},
   "source": [
    "Quy trình Bernoulli giúp định lượng hóa sai số của Sample so với Population. \n",
    "    \n",
    "Đây là công trình được viết trong 20 năm của Bernoulli, được coi là \"Định luật vàng\". Có nhiều tên gọi cho định luật này: Định luật Bernoulli, Luật số lớn, Luật số lớn yếu...\n",
    "Mặc dù Bernoulli muốn có những ứng dụng trong thế giới thực, nhưng các ví dụ yêu thích của ông lại là về một chiếc bình chứa các viên đá thạch anh. \n",
    "Ví dụ, có 1 bình chứa các viên đá thạch anh. Giả sử có 1 bình chứa các viên đá thạch anh: 3000 viên trắng và 2000 viên đen, tỷ lệ là 60% số viên đá là trắng và 40% là viên đen.\n",
    "\n",
    "Ta có thể đưa ra các assumptions như sau: "
   ]
  },
  {
   "cell_type": "code",
   "execution_count": 5,
   "metadata": {},
   "outputs": [],
   "source": [
    "p_White = 0.6\n",
    "p_Black = 0.4"
   ]
  },
  {
   "cell_type": "markdown",
   "metadata": {},
   "source": [
    "Ta có cơ hội bao nhiêu phần trăm để lấy ra 1 sample có kích thước N mô tả đúng quy luật của hộp trên. Để đảm bảo tỷ lệ các viên đen và viên trắng của bình không đổi, khi lấy 1 viên đá ra khỏi bình, ta bù 1 viên cùng màu vào bình. Lưu ý N cần nhỏ hơn 5000."
   ]
  },
  {
   "cell_type": "markdown",
   "metadata": {},
   "source": [
    "Với N = 100, ta cần lấy 1 sample chứa chính xác 60 viên trắng:"
   ]
  },
  {
   "cell_type": "code",
   "execution_count": 6,
   "metadata": {},
   "outputs": [
    {
     "name": "stdout",
     "output_type": "stream",
     "text": [
      "8.12%\n"
     ]
    }
   ],
   "source": [
    "p = get_bionamal_distribution(100, p_White)\n",
    "print (\"{0:.2f}\".format(p[60] * 100) + \"%\")"
   ]
  },
  {
   "cell_type": "markdown",
   "metadata": {},
   "source": [
    "Để đánh giá xem mẫu có tốt không, ta dùng khái niệm sai số trung bình:\n",
    "\n",
    "(Cần sửa)"
   ]
  },
  {
   "cell_type": "markdown",
   "metadata": {},
   "source": [
    "Giả sử ta chấp nhận rằng sẽ có 5% sai số, tức là khả năng chúng ta lấy sample chứa chính xác từ 55 đến 65 viên:"
   ]
  },
  {
   "cell_type": "code",
   "execution_count": 17,
   "metadata": {},
   "outputs": [
    {
     "name": "stdout",
     "output_type": "stream",
     "text": [
      "73.86%\n"
     ]
    }
   ],
   "source": [
    "p1 = sum(p[55:65 + 1])\n",
    "print (\"{0:.2f}\".format(p1 * 100) + \"%\")"
   ]
  },
  {
   "cell_type": "markdown",
   "metadata": {},
   "source": [
    "5% được gọi là sai số của sample. Bây giờ ta cần tìm N để khả năng lấy được 1 sample có sai số 5% là 95%. 95% được gọi là khoảng tin cậy của sample. Ta thử với các trường hợp sau: 10, 100, 200, 300, 370, 400."
   ]
  },
  {
   "cell_type": "code",
   "execution_count": 18,
   "metadata": {},
   "outputs": [],
   "source": [
    "N = [10, 100, 200, 300, 370, 400]\n",
    "index = []\n",
    "prob = []\n",
    "p_truth = []\n",
    "\n",
    "for j in range(len(N)):\n",
    "    n = N[j]\n",
    "    i = [j for j in range(n + 1)]\n",
    "    p = get_bionamal_distribution(n, p_White)\n",
    "    \n",
    "    expected = int(n * p_White)\n",
    "    error = int(n * 5 / 100)\n",
    "    \n",
    "#     print(expected, error)\n",
    "    \n",
    "    p_t = sum(p[expected - error: expected + error + 1]) * 100\n",
    "    \n",
    "    index.append(i)\n",
    "    prob.append(p)\n",
    "    \n",
    "    p_truth.append(p_t)"
   ]
  },
  {
   "cell_type": "code",
   "execution_count": 21,
   "metadata": {},
   "outputs": [
    {
     "data": {
      "image/png": "[encoded data removed]",
      "text/plain": [
       "<Figure size 864x648 with 6 Axes>"
      ]
     },
     "metadata": {},
     "output_type": "display_data"
    }
   ],
   "source": [
    "fig, axs = plt.subplots(ncols=2, nrows=3)\n",
    "fig.set_size_inches(12, 9)\n",
    "fig.tight_layout()\n",
    "\n",
    "from_plot = [0, 40, 100, 150, 185, 200]\n",
    "end_plot = [10, 80, 140, 210, 259, 280]\n",
    "\n",
    "for j in range(len(N)):\n",
    "    n = N[j]\n",
    "    \n",
    "    expected = int(n * p_White)\n",
    "    error = int(n * 5 / 100)\n",
    "    clrs = ['red' if (x >= expected - error and x <= expected + error) else 'blue' for x in range(n + 1)]\n",
    "    \n",
    "    title = \"N = \" + str(n) +\", p=\" + \"{0:.2f}\".format(p_truth[j]) + \"%\" \n",
    "    sns.barplot(x=index[j][from_plot[j]: end_plot[j] + 1], \n",
    "                y=prob[j][from_plot[j]: end_plot[j] + 1], \n",
    "                palette=clrs[from_plot[j]: end_plot[j] + 1], \n",
    "                ax=axs[int(j / 2)][int(j % 2)]).set_title(title)"
   ]
  },
  {
   "cell_type": "markdown",
   "metadata": {},
   "source": [
    "Qua bài toán trên, ta nhận thấy nếu lấy kích thước sample bằng 370, ta có xác suất 95% mô tả được population với sai số 5%."
   ]
  },
  {
   "cell_type": "markdown",
   "metadata": {},
   "source": [
    "Luật số lớn đơn giản là kích thước sample càng lớn càng có khả năng cao mô tả chính xác population. "
   ]
  },
  {
   "cell_type": "markdown",
   "metadata": {},
   "source": [
    "## III. Quy trình Bayes - Ước lượng tham số model\n",
    "    \n",
    "All models are wrong. Như vậy trong thực nghiệm ta không thể đạt đến model chính xác 100%. Vấn đề là với chỉ sample ta có thể suy ra 1 model chính xác bao nhiêu và so với các model khác, model của chúng ta đáng tin cậy hơn bao nhiêu."
   ]
  },
  {
   "cell_type": "markdown",
   "metadata": {},
   "source": [
    "Ta giải bài toán sau:\n",
    "Có 11 hộp đựng đá thạch anh như sau:\n",
    "- Hộp 0: 0% viên trắng, 100% viên đen.\n",
    "- Hộp 1: 10% viên trắng, 90% viên đen.\n",
    "- Hộp 2: 20% viên trắng, 80% viên đen.\n",
    "- Hộp 3: 30% viên trắng, 70% viên đen.\n",
    "- Hộp 4: 40% viên trắng, 60% viên đen.\n",
    "- Hộp 5: 50% viên trắng, 50% viên đen.\n",
    "- Hộp 6: 60% viên trắng, 40% viên đen.\n",
    "- Hộp 7: 70% viên trắng, 30% viên đen.\n",
    "- Hộp 8: 80% viên trắng, 20% viên đen.\n",
    "- Hộp 9: 90% viên trắng, 10% viên đen.\n",
    "- Hộp 10: 100% viên trắng, 0% viên đen.\n"
   ]
  },
  {
   "cell_type": "code",
   "execution_count": 7,
   "metadata": {},
   "outputs": [
    {
     "data": {
      "text/plain": [
       "[0.0, 0.1, 0.2, 0.3, 0.4, 0.5, 0.6, 0.7, 0.8, 0.9, 1.0]"
      ]
     },
     "execution_count": 7,
     "metadata": {},
     "output_type": "execute_result"
    }
   ],
   "source": [
    "p_White = []\n",
    "for i in range(11):\n",
    "    p_White.append(i / 10)\n",
    "    \n",
    "p_White"
   ]
  },
  {
   "cell_type": "markdown",
   "metadata": {},
   "source": [
    "Chọn lấy một hộp bất kỳ. Lấy ra 10 viên, thấy có 6 viên trắng.\n",
    "Hỏi khả năng được chọn của từng hộp."
   ]
  },
  {
   "cell_type": "markdown",
   "metadata": {},
   "source": [
    "Giả sử ta có 11 người đoán xem hộp nào đúng. Người 1 chọn hộp 1, người 2 chọn hộp 2, người 3 chọn hộp 3...\n",
    "Để dễ mô tả, ta gọi người 1 là model1, người 2 là model2, người 3 là model3... Khái niệm model trong phạm vi bài viết phù hợp với cách gọi này.\n",
    "\n",
    "Ta cần định lượng sai số của 11 model so với data:\n",
    "> P(model | data)\n",
    "\n",
    "Hiện tại ta không biết gì về hộp được chọn nên khả năng được chọn của các hộp là như nhau: \n",
    "> P(model1) = P(model2) = P(model3) = ..."
   ]
  },
  {
   "cell_type": "code",
   "execution_count": 10,
   "metadata": {},
   "outputs": [
    {
     "data": {
      "text/plain": [
       "<matplotlib.axes._subplots.AxesSubplot at 0x7f92749cabe0>"
      ]
     },
     "execution_count": 10,
     "metadata": {},
     "output_type": "execute_result"
    },
    {
     "data": {
      "image/png": "[encoded data removed]",
      "text/plain": [
       "<Figure size 432x288 with 1 Axes>"
      ]
     },
     "metadata": {},
     "output_type": "display_data"
    }
   ],
   "source": [
    "belief = []\n",
    "index = []\n",
    "\n",
    "clrs = ['blue' for x in range(11 + 1)]\n",
    "for i in range(11):\n",
    "    index.append(i)\n",
    "    belief.append(1 / 11)\n",
    "    \n",
    "sns.barplot(x=index, y=belief, palette=clrs)"
   ]
  },
  {
   "cell_type": "markdown",
   "metadata": {},
   "source": [
    "Luật Bayes đơn giản như sau:\n",
    "> P(A|B) * P(B) = P(B|A) * P(A)\n",
    "\n",
    "> P(A|B) = P(B|A) * P(A) / P(B)\n",
    "\n",
    "Luật Bayes cho phép mở rộng các xuất có điều kiện để tính các xác suất chưa biết. \n",
    "> P(A): là xác suất tiền nghiệm, xác suất đã có (prior).\n",
    "\n",
    "> P(B|A): là xác suất xảy ra B khi A xảy ra (likelihood).\n",
    "\n",
    "> P(B): là xác suất xảy ra sự kiện B (evidence).\n",
    "\n",
    "> P(A|B): là xác suất hậu nghiệm (posterior).\n",
    "\n",
    "Trong bài toán của chúng ta, ta có:\n",
    "> P(model|data) = P(data|model) * P(model) / P(data)"
   ]
  },
  {
   "cell_type": "markdown",
   "metadata": {},
   "source": [
    "Lấy 10 viên bất kỳ từ hộp rồi bù 10 viên cùng màu. Ta thấy viên đó 6 có màu trắng. Xác suất chọn đúng của từng người thay đổi như thế nào?"
   ]
  },
  {
   "cell_type": "code",
   "execution_count": 11,
   "metadata": {},
   "outputs": [],
   "source": [
    "posterior = []\n",
    "for i in range(11): \n",
    "    p_likelihood = get_bionamal_distribution(10, p_White[i])[6]\n",
    "    p_posterior = p_likelihood * belief[i]\n",
    "    posterior.append(p_posterior)\n",
    "\n",
    "for i in range(11):\n",
    "    belief[i] = posterior[i] / sum(posterior)"
   ]
  },
  {
   "cell_type": "code",
   "execution_count": 12,
   "metadata": {},
   "outputs": [
    {
     "data": {
      "text/plain": [
       "<matplotlib.axes._subplots.AxesSubplot at 0x7f92729319e8>"
      ]
     },
     "execution_count": 12,
     "metadata": {},
     "output_type": "execute_result"
    },
    {
     "data": {
      "image/png": "[encoded data removed]",
      "text/plain": [
       "<Figure size 432x288 with 1 Axes>"
      ]
     },
     "metadata": {},
     "output_type": "display_data"
    }
   ],
   "source": [
    "sns.barplot(x=index, y=belief, palette=clrs)"
   ]
  },
  {
   "cell_type": "code",
   "execution_count": null,
   "metadata": {},
   "outputs": [],
   "source": []
  }
 ],
 "metadata": {
  "kernelspec": {
   "display_name": "Python 3",
   "language": "python",
   "name": "python3"
  },
  "language_info": {
   "codemirror_mode": {
    "name": "ipython",
    "version": 3
   },
   "file_extension": ".py",
   "mimetype": "text/x-python",
   "name": "python",
   "nbconvert_exporter": "python",
   "pygments_lexer": "ipython3",
   "version": "3.6.5"
  }
 },
 "nbformat": 4,
 "nbformat_minor": 2
}
